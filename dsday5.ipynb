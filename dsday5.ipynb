{
 "cells": [
  {
   "cell_type": "code",
   "execution_count": 17,
   "id": "b2cb407e-3b8e-4640-894d-21bf45fdb532",
   "metadata": {},
   "outputs": [
    {
     "name": "stdout",
     "output_type": "stream",
     "text": [
      "Previous:  ram rams\n",
      "latest:   r\n"
     ]
    }
   ],
   "source": [
    "with open(\"file1.txt\", 'w') as f:\n",
    "    f.write(\" ram rams\")\n",
    "with open(\"file1.txt\", 'r+') as f:\n",
    "    data=f.read()\n",
    "    print(\"Previous:\", data)\n",
    "    new_data=data.replace(\"rams\", \"bobby\")\n",
    "    f.seek(1)\n",
    "    f.write(new_data)\n",
    "    f.truncate(3)\n",
    "with open(\"file1.txt\", 'r') as f:\n",
    "    print(\"latest:\",f.read())"
   ]
  },
  {
   "cell_type": "code",
   "execution_count": 25,
   "id": "bdc948c4-f5b8-4771-a42b-dad8c1ef9ebf",
   "metadata": {},
   "outputs": [
    {
     "name": "stdout",
     "output_type": "stream",
     "text": [
      "current data:\n",
      " latest line appended now....\n",
      "latest line appended now....\n",
      "\n"
     ]
    }
   ],
   "source": [
    "with open(\"log.txt\", 'a+') as f:\n",
    "    f.write(\"latest line appended now....\\n\")\n",
    "    f.seek(0)\n",
    "    data=f.read()\n",
    "    print(\"current data:\\n\",data)\n"
   ]
  },
  {
   "cell_type": "code",
   "execution_count": 35,
   "id": "93b17161-399b-4998-95ba-b62b6c73f238",
   "metadata": {},
   "outputs": [
    {
     "name": "stdin",
     "output_type": "stream",
     "text": [
      "enter exact line 1.MY NAME IS RAM\n"
     ]
    }
   ],
   "source": [
    "idel=input(\"enter exact line\")\n",
    "with open(r\"C:\\Users\\ComputerCenter3\\Desktop\\New folder\\New Text Document.txt\",'r')as f:\n",
    "    lines=f.readlines()\n",
    "with open(r\"C:\\Users\\ComputerCenter3\\Desktop\\New folder\\New Text Document.txt\",'w')as f: \n",
    "    for line in lines:\n",
    "        if line.strip()!=idel.strip():\n",
    "            f.write(line)"
   ]
  },
  {
   "cell_type": "code",
   "execution_count": 37,
   "id": "0e2fd3e2-2e2d-44e6-a033-41da83c25650",
   "metadata": {},
   "outputs": [
    {
     "name": "stdout",
     "output_type": "stream",
     "text": [
      "False\n"
     ]
    }
   ],
   "source": [
    "f=open(\"log.txt\", 'w')\n",
    "f.write(\"Helloo\")\n",
    "print(f.isatty())"
   ]
  },
  {
   "cell_type": "code",
   "execution_count": 39,
   "id": "787a5b45-353d-42ac-83ba-ba3c54eb6771",
   "metadata": {},
   "outputs": [
    {
     "name": "stdout",
     "output_type": "stream",
     "text": [
      "python version: 3.12.7 | packaged by Anaconda, Inc. | (main, Oct  4 2024, 13:17:27) [MSC v.1929 64 bit (AMD64)]\n"
     ]
    }
   ],
   "source": [
    "import sys\n",
    "print(\"python version:\",sys.version)"
   ]
  },
  {
   "cell_type": "code",
   "execution_count": null,
   "id": "8b7acf32-ad19-405f-86c5-6ba080441bef",
   "metadata": {},
   "outputs": [],
   "source": []
  }
 ],
 "metadata": {
  "kernelspec": {
   "display_name": "Python 3 (ipykernel)",
   "language": "python",
   "name": "python3"
  },
  "language_info": {
   "codemirror_mode": {
    "name": "ipython",
    "version": 3
   },
   "file_extension": ".py",
   "mimetype": "text/x-python",
   "name": "python",
   "nbconvert_exporter": "python",
   "pygments_lexer": "ipython3",
   "version": "3.12.7"
  }
 },
 "nbformat": 4,
 "nbformat_minor": 5
}
