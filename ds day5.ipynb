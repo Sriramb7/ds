{
 "cells": [
  {
   "cell_type": "code",
   "execution_count": 14,
   "id": "9a896112-704b-4b07-8c6d-405add8e09f3",
   "metadata": {},
   "outputs": [
    {
     "name": "stdout",
     "output_type": "stream",
     "text": [
      "\n",
      "Linked List Operations:\n",
      "1. Insert\n",
      "2. Display\n",
      "3. Delete by Value\n",
      "4. Exit\n"
     ]
    },
    {
     "name": "stdin",
     "output_type": "stream",
     "text": [
      "Enter your choice:  1\n",
      "Enter value to insert:  22\n"
     ]
    },
    {
     "name": "stdout",
     "output_type": "stream",
     "text": [
      "\n",
      "Linked List Operations:\n",
      "1. Insert\n",
      "2. Display\n",
      "3. Delete by Value\n",
      "4. Exit\n"
     ]
    },
    {
     "name": "stdin",
     "output_type": "stream",
     "text": [
      "Enter your choice:  1\n",
      "Enter value to insert:  44\n"
     ]
    },
    {
     "name": "stdout",
     "output_type": "stream",
     "text": [
      "\n",
      "Linked List Operations:\n",
      "1. Insert\n",
      "2. Display\n",
      "3. Delete by Value\n",
      "4. Exit\n"
     ]
    },
    {
     "name": "stdin",
     "output_type": "stream",
     "text": [
      "Enter your choice:  1\n",
      "Enter value to insert:  66\n"
     ]
    },
    {
     "name": "stdout",
     "output_type": "stream",
     "text": [
      "\n",
      "Linked List Operations:\n",
      "1. Insert\n",
      "2. Display\n",
      "3. Delete by Value\n",
      "4. Exit\n"
     ]
    },
    {
     "name": "stdin",
     "output_type": "stream",
     "text": [
      "Enter your choice:  2\n"
     ]
    },
    {
     "name": "stdout",
     "output_type": "stream",
     "text": [
      "22 ---> 44 ---> 66 ---> None\n",
      "\n",
      "Linked List Operations:\n",
      "1. Insert\n",
      "2. Display\n",
      "3. Delete by Value\n",
      "4. Exit\n"
     ]
    },
    {
     "name": "stdin",
     "output_type": "stream",
     "text": [
      "Enter your choice:  3\n",
      "Enter the value you want to delete:  44\n"
     ]
    },
    {
     "name": "stdout",
     "output_type": "stream",
     "text": [
      "44 deleted from the linked list\n",
      "\n",
      "Linked List Operations:\n",
      "1. Insert\n",
      "2. Display\n",
      "3. Delete by Value\n",
      "4. Exit\n"
     ]
    },
    {
     "name": "stdin",
     "output_type": "stream",
     "text": [
      "Enter your choice:  2\n"
     ]
    },
    {
     "name": "stdout",
     "output_type": "stream",
     "text": [
      "22 ---> 66 ---> None\n",
      "\n",
      "Linked List Operations:\n",
      "1. Insert\n",
      "2. Display\n",
      "3. Delete by Value\n",
      "4. Exit\n"
     ]
    },
    {
     "name": "stdin",
     "output_type": "stream",
     "text": [
      "Enter your choice:  4\n"
     ]
    },
    {
     "name": "stdout",
     "output_type": "stream",
     "text": [
      "Exiting the operation...\n"
     ]
    }
   ],
   "source": [
    "class Node:\n",
    "    def __init__(self, data):  \n",
    "        self.data = data\n",
    "        self.next = None\n",
    "\n",
    "class Linkedlist:\n",
    "    def __init__(self):  \n",
    "        self.head = None\n",
    "\n",
    "    def insert_at_end(self, data):\n",
    "        newnode = Node(data)\n",
    "        if not self.head:\n",
    "            self.head = newnode\n",
    "            return\n",
    "        current = self.head\n",
    "        while current.next:\n",
    "            current = current.next\n",
    "        current.next = newnode    \n",
    "\n",
    "    def deletevalue(self, key):\n",
    "        current = self.head\n",
    "        if not current:\n",
    "            print(\"Empty linked list\")\n",
    "            return \n",
    "        if current.data == key:\n",
    "            self.head = current.next\n",
    "            print(f\"{key} deleted from the list\")\n",
    "            return \n",
    "        prev = None\n",
    "        while current and current.data != key:\n",
    "            prev = current\n",
    "            current = current.next\n",
    "        if not current:\n",
    "            print(f\"{key} not found in the linked list\")\n",
    "            return\n",
    "        prev.next = current.next\n",
    "        print(f\"{key} deleted from the linked list\")\n",
    "\n",
    "    def display(self):\n",
    "        current = self.head\n",
    "        if not current:\n",
    "            print(\"Linked list is empty\")\n",
    "            return \n",
    "        while current:\n",
    "            print(current.data, end=' ---> ')\n",
    "            current = current.next\n",
    "        print(\"None\")\n",
    "\n",
    "\n",
    "ll = Linkedlist()\n",
    "\n",
    "while True:\n",
    "    print(\"\\nLinked List Operations:\")\n",
    "    print(\"1. Insert\")\n",
    "    print(\"2. Display\")\n",
    "    print(\"3. Delete by Value\")\n",
    "    print(\"4. Exit\")\n",
    "\n",
    "    choice = input(\"Enter your choice: \")\n",
    "\n",
    "    if choice == '1':\n",
    "        data = int(input(\"Enter value to insert: \"))\n",
    "        ll.insert_at_end(data)\n",
    "    elif choice == '2':\n",
    "        ll.display()\n",
    "    elif choice == '3':\n",
    "        val = int(input(\"Enter the value you want to delete: \"))\n",
    "        ll.deletevalue(val)\n",
    "    elif choice == '4':\n",
    "        print(\"Exiting the operation...\")\n",
    "        break\n",
    "    else:\n",
    "        print(\"Invalid choice! Please enter a valid option.\")\n"
   ]
  },
  {
   "cell_type": "code",
   "execution_count": null,
   "id": "634a9810-000e-4661-be63-2c028a206150",
   "metadata": {},
   "outputs": [
    {
     "name": "stdout",
     "output_type": "stream",
     "text": [
      "\n",
      " ----ATM transaction menu----\n",
      "1. deposit\n",
      "2. withdraw\n",
      "3. history\n",
      "4. exit\n"
     ]
    },
    {
     "name": "stdin",
     "output_type": "stream",
     "text": [
      "enter your choice: 1\n",
      "enter amount to deposit: 500000\n"
     ]
    },
    {
     "name": "stdout",
     "output_type": "stream",
     "text": [
      "deposit of rupess.500000.0 recorded...\n",
      "\n",
      " ----ATM transaction menu----\n",
      "1. deposit\n",
      "2. withdraw\n",
      "3. history\n",
      "4. exit\n"
     ]
    },
    {
     "name": "stdin",
     "output_type": "stream",
     "text": [
      "enter your choice: 3\n"
     ]
    },
    {
     "name": "stdout",
     "output_type": "stream",
     "text": [
      "\n",
      " transaction history\n",
      "1,deposit- Rs500000.0\n",
      "\n",
      " ----ATM transaction menu----\n",
      "1. deposit\n",
      "2. withdraw\n",
      "3. history\n",
      "4. exit\n"
     ]
    },
    {
     "name": "stdin",
     "output_type": "stream",
     "text": [
      "enter your choice: 2\n",
      "enter amount to withdraw 300000\n"
     ]
    },
    {
     "name": "stdout",
     "output_type": "stream",
     "text": [
      "withdraw of rupess.300000.0 recorded...\n",
      "\n",
      " ----ATM transaction menu----\n",
      "1. deposit\n",
      "2. withdraw\n",
      "3. history\n",
      "4. exit\n"
     ]
    },
    {
     "name": "stdin",
     "output_type": "stream",
     "text": [
      "enter your choice: \n"
     ]
    },
    {
     "name": "stdout",
     "output_type": "stream",
     "text": [
      "choice correct option\n",
      "\n",
      " ----ATM transaction menu----\n",
      "1. deposit\n",
      "2. withdraw\n",
      "3. history\n",
      "4. exit\n"
     ]
    },
    {
     "name": "stdin",
     "output_type": "stream",
     "text": [
      "enter your choice: 3\n"
     ]
    },
    {
     "name": "stdout",
     "output_type": "stream",
     "text": [
      "\n",
      " transaction history\n",
      "1,deposit- Rs500000.0\n",
      "2,withdraw- Rs300000.0\n",
      "\n",
      " ----ATM transaction menu----\n",
      "1. deposit\n",
      "2. withdraw\n",
      "3. history\n",
      "4. exit\n"
     ]
    },
    {
     "name": "stdin",
     "output_type": "stream",
     "text": [
      "enter your choice: 2\n",
      "enter amount to withdraw 400000\n"
     ]
    },
    {
     "name": "stdout",
     "output_type": "stream",
     "text": [
      "withdraw of rupess.400000.0 recorded...\n",
      "\n",
      " ----ATM transaction menu----\n",
      "1. deposit\n",
      "2. withdraw\n",
      "3. history\n",
      "4. exit\n"
     ]
    },
    {
     "name": "stdin",
     "output_type": "stream",
     "text": [
      "enter your choice: 3\n"
     ]
    },
    {
     "name": "stdout",
     "output_type": "stream",
     "text": [
      "\n",
      " transaction history\n",
      "1,deposit- Rs500000.0\n",
      "2,withdraw- Rs300000.0\n",
      "3,withdraw- Rs400000.0\n",
      "\n",
      " ----ATM transaction menu----\n",
      "1. deposit\n",
      "2. withdraw\n",
      "3. history\n",
      "4. exit\n"
     ]
    }
   ],
   "source": [
    "'''ATM tansaction'''\n",
    "class Transaction:\n",
    "    def __init__(self, transaction_type, amount):\n",
    "        self.type=transaction_type\n",
    "        self.amount=amount\n",
    "        self.next=None\n",
    "class  TransactionHistory:\n",
    "    def __init__(self):\n",
    "        self.head=None\n",
    "    def add_transaction(self, transaction_type, amount):\n",
    "        newnode=Transaction(transaction_type,amount)\n",
    "        if not self.head:\n",
    "            self.head=newnode\n",
    "        else:\n",
    "            current= self.head\n",
    "            while current.next:\n",
    "                current=current.next\n",
    "            current.next=newnode\n",
    "        print(f\"{transaction_type} of rupess.{amount} recorded...\")\n",
    "    def show_history(self):\n",
    "        if not self.head:\n",
    "            print(\"no transaction found...\")\n",
    "            return\n",
    "        print(\"\\n transaction history\")\n",
    "        current=self.head\n",
    "        count=1\n",
    "        while current:\n",
    "            print(f\"{count},{current.type}- Rs{current.amount}\")\n",
    "            current=current.next\n",
    "            count+=1\n",
    "\n",
    "history= TransactionHistory()\n",
    "while True:\n",
    "    print(\"\\n ----ATM transaction menu----\")\n",
    "    print(\"1. deposit\")\n",
    "    print(\"2. withdraw\")\n",
    "    print(\"3. history\")\n",
    "    print(\"4. exit\")\n",
    "    choice=input(\"enter your choice:\")\n",
    "    if choice =='1':\n",
    "        amount= float(input(\"enter amount to deposit:\"))\n",
    "        history.add_transaction(\"deposit\",amount)\n",
    "    elif choice =='2':\n",
    "        amount=float(input(\"enter amount to withdraw\"))\n",
    "        history.add_transaction(\"withdraw\", amount)\n",
    "    elif choice=='3':\n",
    "        history.show_history()\n",
    "    elif choice=='4':\n",
    "        print(\"end of tansaction....exit\")\n",
    "        break\n",
    "    else:\n",
    "        print(\"choice correct option\")\n",
    "        "
   ]
  },
  {
   "cell_type": "code",
   "execution_count": 23,
   "id": "ef8ebc68-73c6-4999-8188-fa9c1f12b3a4",
   "metadata": {},
   "outputs": [
    {
     "name": "stdout",
     "output_type": "stream",
     "text": [
      "\n",
      "Linked List Operations:\n",
      "1. Insert\n",
      "2. Display\n",
      "3. Delete by Value\n",
      "4. Exit\n"
     ]
    },
    {
     "name": "stdin",
     "output_type": "stream",
     "text": [
      "Enter your choice:  1\n",
      "Enter value to insert:  77\n"
     ]
    },
    {
     "name": "stdout",
     "output_type": "stream",
     "text": [
      "\n",
      "Linked List Operations:\n",
      "1. Insert\n",
      "2. Display\n",
      "3. Delete by Value\n",
      "4. Exit\n"
     ]
    },
    {
     "name": "stdin",
     "output_type": "stream",
     "text": [
      "Enter your choice:  1\n",
      "Enter value to insert:  88\n"
     ]
    },
    {
     "name": "stdout",
     "output_type": "stream",
     "text": [
      "\n",
      "Linked List Operations:\n",
      "1. Insert\n",
      "2. Display\n",
      "3. Delete by Value\n",
      "4. Exit\n"
     ]
    },
    {
     "name": "stdin",
     "output_type": "stream",
     "text": [
      "Enter your choice:  3\n",
      "Enter the value you want to delete:  88\n"
     ]
    },
    {
     "name": "stdout",
     "output_type": "stream",
     "text": [
      "88 deleted from the linked list\n",
      "\n",
      "Linked List Operations:\n",
      "1. Insert\n",
      "2. Display\n",
      "3. Delete by Value\n",
      "4. Exit\n"
     ]
    },
    {
     "name": "stdin",
     "output_type": "stream",
     "text": [
      "Enter your choice:  2\n"
     ]
    },
    {
     "name": "stdout",
     "output_type": "stream",
     "text": [
      "77 ---> None\n",
      "\n",
      "Linked List Operations:\n",
      "1. Insert\n",
      "2. Display\n",
      "3. Delete by Value\n",
      "4. Exit\n"
     ]
    },
    {
     "name": "stdin",
     "output_type": "stream",
     "text": [
      "Enter your choice:  4\n"
     ]
    },
    {
     "name": "stdout",
     "output_type": "stream",
     "text": [
      "Exiting the operation...\n"
     ]
    }
   ],
   "source": [
    "###value to delete\n",
    "\n",
    "class Node:\n",
    "    def __init__(self, data):  \n",
    "        self.data = data\n",
    "        self.next = None\n",
    "\n",
    "class Linkedlist:\n",
    "    def __init__(self):         \n",
    "        self.head = None\n",
    "\n",
    "    def insert_at_end(self, data):\n",
    "        newnode = Node(data)\n",
    "        if not self.head:\n",
    "            self.head = newnode\n",
    "            return\n",
    "        current = self.head\n",
    "        while current.next:\n",
    "            current = current.next\n",
    "        current.next = newnode    \n",
    "\n",
    "    def deletevalue(self, key):\n",
    "        current = self.head\n",
    "        if not current:\n",
    "            print(\"Empty linked list\")\n",
    "            return \n",
    "        if current.data == key:\n",
    "            self.head = current.next\n",
    "            print(f\"{key} deleted from the list\")\n",
    "            return \n",
    "        prev = None\n",
    "        while current and current.data != key:\n",
    "            prev = current\n",
    "            current = current.next\n",
    "        if not current:\n",
    "            print(f\"{key} not found in the linked list\")\n",
    "            return\n",
    "        prev.next = current.next\n",
    "        print(f\"{key} deleted from the linked list\")\n",
    "\n",
    "    def display(self):\n",
    "        current = self.head\n",
    "        if not current:\n",
    "            print(\"Linked list is empty\")\n",
    "            return \n",
    "        while current:\n",
    "            print(current.data, end=' ---> ')\n",
    "            current = current.next\n",
    "        print(\"None\")\n",
    "\n",
    "ll = Linkedlist()\n",
    "\n",
    "while True:\n",
    "    print(\"\\nLinked List Operations:\")\n",
    "    print(\"1. Insert\")\n",
    "    print(\"2. Display\")\n",
    "    print(\"3. Delete by Value\")\n",
    "    print(\"4. Exit\")\n",
    "\n",
    "    choice = input(\"Enter your choice: \")\n",
    "\n",
    "    if choice == '1':\n",
    "        data = int(input(\"Enter value to insert: \"))\n",
    "        ll.insert_at_end(data)\n",
    "    elif choice == '2':\n",
    "        ll.display()\n",
    "    elif choice == '3':\n",
    "        val = int(input(\"Enter the value you want to delete: \"))\n",
    "        ll.deletevalue(val)\n",
    "    elif choice == '4':\n",
    "        print(\"Exiting the operation...\")\n",
    "        break\n",
    "    else:\n",
    "        print(\"Invalid choice! Please enter a valid option.\")\n",
    "\n"
   ]
  },
  {
   "cell_type": "code",
   "execution_count": 25,
   "id": "a83411bb-b81b-4ca6-a8ad-7b4df8f10d63",
   "metadata": {},
   "outputs": [
    {
     "name": "stdout",
     "output_type": "stream",
     "text": [
      "\n",
      "Linked List Operations:\n",
      "1. Insert\n",
      "2. Display\n",
      "3. Delete at Beginning\n",
      "4. Exit\n"
     ]
    },
    {
     "name": "stdin",
     "output_type": "stream",
     "text": [
      "Enter your choice:  1\n",
      "Enter value to insert:  22\n"
     ]
    },
    {
     "name": "stdout",
     "output_type": "stream",
     "text": [
      "\n",
      "Linked List Operations:\n",
      "1. Insert\n",
      "2. Display\n",
      "3. Delete at Beginning\n",
      "4. Exit\n"
     ]
    },
    {
     "name": "stdin",
     "output_type": "stream",
     "text": [
      "Enter your choice:  1\n",
      "Enter value to insert:  3\n"
     ]
    },
    {
     "name": "stdout",
     "output_type": "stream",
     "text": [
      "\n",
      "Linked List Operations:\n",
      "1. Insert\n",
      "2. Display\n",
      "3. Delete at Beginning\n",
      "4. Exit\n"
     ]
    },
    {
     "name": "stdin",
     "output_type": "stream",
     "text": [
      "Enter your choice:  1\n",
      "Enter value to insert:  44\n"
     ]
    },
    {
     "name": "stdout",
     "output_type": "stream",
     "text": [
      "\n",
      "Linked List Operations:\n",
      "1. Insert\n",
      "2. Display\n",
      "3. Delete at Beginning\n",
      "4. Exit\n"
     ]
    },
    {
     "name": "stdin",
     "output_type": "stream",
     "text": [
      "Enter your choice:  2\n"
     ]
    },
    {
     "name": "stdout",
     "output_type": "stream",
     "text": [
      "22 ---> 3 ---> 44 ---> None\n",
      "\n",
      "Linked List Operations:\n",
      "1. Insert\n",
      "2. Display\n",
      "3. Delete at Beginning\n",
      "4. Exit\n"
     ]
    },
    {
     "name": "stdin",
     "output_type": "stream",
     "text": [
      "Enter your choice:  3\n"
     ]
    },
    {
     "name": "stdout",
     "output_type": "stream",
     "text": [
      "Deleted node from beginning: 22\n",
      "\n",
      "Linked List Operations:\n",
      "1. Insert\n",
      "2. Display\n",
      "3. Delete at Beginning\n",
      "4. Exit\n"
     ]
    },
    {
     "name": "stdin",
     "output_type": "stream",
     "text": [
      "Enter your choice:  2\n"
     ]
    },
    {
     "name": "stdout",
     "output_type": "stream",
     "text": [
      "3 ---> 44 ---> None\n",
      "\n",
      "Linked List Operations:\n",
      "1. Insert\n",
      "2. Display\n",
      "3. Delete at Beginning\n",
      "4. Exit\n"
     ]
    },
    {
     "name": "stdin",
     "output_type": "stream",
     "text": [
      "Enter your choice:  4\n"
     ]
    },
    {
     "name": "stdout",
     "output_type": "stream",
     "text": [
      "Exiting the operation...\n"
     ]
    }
   ],
   "source": [
    "''' Deleting operation at beginning '''\n",
    "class Node:\n",
    "    def __init__(self, data):  \n",
    "        self.data = data\n",
    "        self.next = None\n",
    "\n",
    "class Linkedlist:\n",
    "    def __init__(self):        \n",
    "        self.head = None\n",
    "\n",
    "    def insert_at_end(self, data):\n",
    "        newnode = Node(data)\n",
    "        if not self.head:\n",
    "            self.head = newnode\n",
    "            return\n",
    "        current = self.head\n",
    "        while current.next:\n",
    "            current = current.next\n",
    "        current.next = newnode    \n",
    "\n",
    "    def deleteatbegin(self):\n",
    "        if self.head is None:\n",
    "            print(\"EMPTY = linked list\")\n",
    "        else: \n",
    "            print(\"Deleted node from beginning:\", self.head.data)\n",
    "            self.head = self.head.next\n",
    "\n",
    "    def display(self):\n",
    "        current = self.head\n",
    "        if not current:\n",
    "            print(\"Linked list is empty\")\n",
    "            return \n",
    "        while current:\n",
    "            print(current.data, end=' ---> ')\n",
    "            current = current.next\n",
    "        print(\"None\")\n",
    "\n",
    "ll = Linkedlist()\n",
    "\n",
    "while True:\n",
    "    print(\"\\nLinked List Operations:\")\n",
    "    print(\"1. Insert\")\n",
    "    print(\"2. Display\")\n",
    "    print(\"3. Delete at Beginning\")\n",
    "    print(\"4. Exit\")\n",
    "\n",
    "    choice = input(\"Enter your choice: \")\n",
    "    if choice == '1':\n",
    "        data = int(input(\"Enter value to insert: \"))\n",
    "        ll.insert_at_end(data)\n",
    "    elif choice == '2':\n",
    "        ll.display()\n",
    "    elif choice == '3':\n",
    "        ll.deleteatbegin()\n",
    "    elif choice == '4':\n",
    "        print(\"Exiting the operation...\")\n",
    "        break\n",
    "    else:\n",
    "        print(\"Invalid choice! Please enter a valid option.\")\n",
    "\n"
   ]
  },
  {
   "cell_type": "code",
   "execution_count": 27,
   "id": "32de0b43-0149-4ab5-b8ce-0242c14e0fe2",
   "metadata": {},
   "outputs": [
    {
     "name": "stdout",
     "output_type": "stream",
     "text": [
      "\n",
      "Linked List Operations:\n",
      "1. Insert\n",
      "2. Display\n",
      "3. Delete at End\n",
      "4. Exit\n"
     ]
    },
    {
     "name": "stdin",
     "output_type": "stream",
     "text": [
      "Enter your choice:  1\n",
      "Enter value to insert:  77\n"
     ]
    },
    {
     "name": "stdout",
     "output_type": "stream",
     "text": [
      "\n",
      "Linked List Operations:\n",
      "1. Insert\n",
      "2. Display\n",
      "3. Delete at End\n",
      "4. Exit\n"
     ]
    },
    {
     "name": "stdin",
     "output_type": "stream",
     "text": [
      "Enter your choice:  1\n",
      "Enter value to insert:  88\n"
     ]
    },
    {
     "name": "stdout",
     "output_type": "stream",
     "text": [
      "\n",
      "Linked List Operations:\n",
      "1. Insert\n",
      "2. Display\n",
      "3. Delete at End\n",
      "4. Exit\n"
     ]
    },
    {
     "name": "stdin",
     "output_type": "stream",
     "text": [
      "Enter your choice:  1\n",
      "Enter value to insert:  99\n"
     ]
    },
    {
     "name": "stdout",
     "output_type": "stream",
     "text": [
      "\n",
      "Linked List Operations:\n",
      "1. Insert\n",
      "2. Display\n",
      "3. Delete at End\n",
      "4. Exit\n"
     ]
    },
    {
     "name": "stdin",
     "output_type": "stream",
     "text": [
      "Enter your choice:  1\n",
      "Enter value to insert:  54\n"
     ]
    },
    {
     "name": "stdout",
     "output_type": "stream",
     "text": [
      "\n",
      "Linked List Operations:\n",
      "1. Insert\n",
      "2. Display\n",
      "3. Delete at End\n",
      "4. Exit\n"
     ]
    },
    {
     "name": "stdin",
     "output_type": "stream",
     "text": [
      "Enter your choice:  1\n",
      "Enter value to insert:  66\n"
     ]
    },
    {
     "name": "stdout",
     "output_type": "stream",
     "text": [
      "\n",
      "Linked List Operations:\n",
      "1. Insert\n",
      "2. Display\n",
      "3. Delete at End\n",
      "4. Exit\n"
     ]
    },
    {
     "name": "stdin",
     "output_type": "stream",
     "text": [
      "Enter your choice:  2\n"
     ]
    },
    {
     "name": "stdout",
     "output_type": "stream",
     "text": [
      "77 ---> 88 ---> 99 ---> 54 ---> 66 ---> None\n",
      "\n",
      "Linked List Operations:\n",
      "1. Insert\n",
      "2. Display\n",
      "3. Delete at End\n",
      "4. Exit\n"
     ]
    },
    {
     "name": "stdin",
     "output_type": "stream",
     "text": [
      "Enter your choice:  3\n"
     ]
    },
    {
     "name": "stdout",
     "output_type": "stream",
     "text": [
      "Deleted last node: 66\n",
      "\n",
      "Linked List Operations:\n",
      "1. Insert\n",
      "2. Display\n",
      "3. Delete at End\n",
      "4. Exit\n"
     ]
    },
    {
     "name": "stdin",
     "output_type": "stream",
     "text": [
      "Enter your choice:  2\n"
     ]
    },
    {
     "name": "stdout",
     "output_type": "stream",
     "text": [
      "77 ---> 88 ---> 99 ---> 54 ---> None\n",
      "\n",
      "Linked List Operations:\n",
      "1. Insert\n",
      "2. Display\n",
      "3. Delete at End\n",
      "4. Exit\n"
     ]
    },
    {
     "name": "stdin",
     "output_type": "stream",
     "text": [
      "Enter your choice:  3\n"
     ]
    },
    {
     "name": "stdout",
     "output_type": "stream",
     "text": [
      "Deleted last node: 54\n",
      "\n",
      "Linked List Operations:\n",
      "1. Insert\n",
      "2. Display\n",
      "3. Delete at End\n",
      "4. Exit\n"
     ]
    },
    {
     "name": "stdin",
     "output_type": "stream",
     "text": [
      "Enter your choice:  2\n"
     ]
    },
    {
     "name": "stdout",
     "output_type": "stream",
     "text": [
      "77 ---> 88 ---> 99 ---> None\n",
      "\n",
      "Linked List Operations:\n",
      "1. Insert\n",
      "2. Display\n",
      "3. Delete at End\n",
      "4. Exit\n"
     ]
    },
    {
     "name": "stdin",
     "output_type": "stream",
     "text": [
      "Enter your choice:  3\n"
     ]
    },
    {
     "name": "stdout",
     "output_type": "stream",
     "text": [
      "Deleted last node: 99\n",
      "\n",
      "Linked List Operations:\n",
      "1. Insert\n",
      "2. Display\n",
      "3. Delete at End\n",
      "4. Exit\n"
     ]
    },
    {
     "name": "stdin",
     "output_type": "stream",
     "text": [
      "Enter your choice:  2\n"
     ]
    },
    {
     "name": "stdout",
     "output_type": "stream",
     "text": [
      "77 ---> 88 ---> None\n",
      "\n",
      "Linked List Operations:\n",
      "1. Insert\n",
      "2. Display\n",
      "3. Delete at End\n",
      "4. Exit\n"
     ]
    },
    {
     "name": "stdin",
     "output_type": "stream",
     "text": [
      "Enter your choice:  4\n"
     ]
    },
    {
     "name": "stdout",
     "output_type": "stream",
     "text": [
      "Exiting the operation...\n"
     ]
    }
   ],
   "source": [
    "''' Deleting operation at end '''\n",
    "class Node:\n",
    "    def __init__(self, data):  \n",
    "        self.data = data\n",
    "        self.next = None\n",
    "\n",
    "class Linkedlist:\n",
    "    def __init__(self):       \n",
    "        self.head = None\n",
    "\n",
    "    def insert_at_end(self, data):\n",
    "        newnode = Node(data)\n",
    "        if not self.head:\n",
    "            self.head = newnode\n",
    "            return\n",
    "        current = self.head\n",
    "        while current.next:\n",
    "            current = current.next\n",
    "        current.next = newnode    \n",
    "\n",
    "    def deleteatend(self):\n",
    "        if self.head is None:\n",
    "            print(\"EMPTY = linked list\")\n",
    "            return\n",
    "        if self.head.next is None:\n",
    "            print(f\"Deleted last node: {self.head.data}\")\n",
    "            self.head = None\n",
    "            return\n",
    "        current = self.head\n",
    "        while current.next.next:\n",
    "            current = current.next\n",
    "        print(f\"Deleted last node: {current.next.data}\")    \n",
    "        current.next = None    \n",
    "\n",
    "    def display(self):\n",
    "        current = self.head\n",
    "        if not current:\n",
    "            print(\"Linked list is empty\")\n",
    "            return \n",
    "        while current:\n",
    "            print(current.data, end=' ---> ')\n",
    "            current = current.next\n",
    "        print(\"None\")\n",
    "\n",
    "ll = Linkedlist()\n",
    "\n",
    "while True:\n",
    "    print(\"\\nLinked List Operations:\")\n",
    "    print(\"1. Insert\")\n",
    "    print(\"2. Display\")\n",
    "    print(\"3. Delete at End\")\n",
    "    print(\"4. Exit\")\n",
    "    \n",
    "    choice = input(\"Enter your choice: \")\n",
    "\n",
    "    if choice == '1':\n",
    "        data = int(input(\"Enter value to insert: \"))\n",
    "        ll.insert_at_end(data)\n",
    "    elif choice == '2':\n",
    "        ll.display()\n",
    "    elif choice == '3':\n",
    "        ll.deleteatend()\n",
    "    elif choice == '4':\n",
    "        print(\"Exiting the operation...\")\n",
    "        break\n",
    "    else:\n",
    "        print(\"Invalid choice! Please enter a valid option.\")\n"
   ]
  },
  {
   "cell_type": "code",
   "execution_count": null,
   "id": "18ad8c57-8480-40ad-9a7e-4cd419fa57f2",
   "metadata": {},
   "outputs": [],
   "source": []
  }
 ],
 "metadata": {
  "kernelspec": {
   "display_name": "Python 3 (ipykernel)",
   "language": "python",
   "name": "python3"
  },
  "language_info": {
   "codemirror_mode": {
    "name": "ipython",
    "version": 3
   },
   "file_extension": ".py",
   "mimetype": "text/x-python",
   "name": "python",
   "nbconvert_exporter": "python",
   "pygments_lexer": "ipython3",
   "version": "3.12.7"
  }
 },
 "nbformat": 4,
 "nbformat_minor": 5
}
