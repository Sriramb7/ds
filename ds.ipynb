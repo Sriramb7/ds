{
 "cells": [
  {
   "cell_type": "code",
   "execution_count": 17,
   "id": "9ba4c804-2fce-40d8-872b-447e4143153c",
   "metadata": {},
   "outputs": [
    {
     "name": "stdout",
     "output_type": "stream",
     "text": [
      "<class 'list'>\n",
      "[10, 20, 25, 30, 40, 50]\n",
      "[10, 20, 25, 40]\n",
      "10 20 25 40 \n",
      " 25 in array True\n"
     ]
    }
   ],
   "source": [
    "#Array Operations\n",
    "#program to consider a list arr=[10,20,30,40] and perform insert operation with 50 and 25 res  and traverse\n",
    "arr=[10,20,30,40]\n",
    "arr.append(50)\n",
    "arr.insert(2,25)\n",
    "print(type(arr))\n",
    "print(arr)\n",
    "#del op\n",
    "arr.remove(30)\n",
    "arr.pop()\n",
    "print(arr)\n",
    "for i in arr:\n",
    "    print(i,end=' ')\n",
    "#search\n",
    "print(\"\\n 25 in array\",25  in arr)"
   ]
  },
  {
   "cell_type": "code",
   "execution_count": 9,
   "id": "9a63d0f8-4943-4d53-9c34-504ef7191cd2",
   "metadata": {},
   "outputs": [
    {
     "name": "stdin",
     "output_type": "stream",
     "text": [
      "enter a name: malayalam\n"
     ]
    },
    {
     "name": "stdout",
     "output_type": "stream",
     "text": [
      "Palindrome\n",
      "{'m': 2, 'a': 4, 'l': 2, 'y': 1}\n"
     ]
    }
   ],
   "source": [
    "#check whether palindrome or not\n",
    "text=input(\"enter a name:\")\n",
    "if text==text[::-1]:\n",
    "    print(\"Palindrome\")\n",
    "else:\n",
    "    print(\"not\")\n",
    "freq={}\n",
    "for ch in text:\n",
    "    freq[ch]=freq.get(ch,0)+1\n",
    "print(freq)"
   ]
  },
  {
   "cell_type": "code",
   "execution_count": 11,
   "id": "467d736e-82a7-4490-861f-fe56a36aa0fe",
   "metadata": {},
   "outputs": [
    {
     "name": "stdin",
     "output_type": "stream",
     "text": [
      "Enter the size of array: 5\n"
     ]
    },
    {
     "name": "stdout",
     "output_type": "stream",
     "text": [
      "Enter the elements\n"
     ]
    },
    {
     "name": "stdin",
     "output_type": "stream",
     "text": [
      "Elements 1: 33\n",
      "Elements 2: 44\n",
      "Elements 3: 55\n",
      "Elements 4: 66\n",
      "Elements 5: 77\n",
      "enter the elements to search: 66\n"
     ]
    },
    {
     "name": "stdout",
     "output_type": "stream",
     "text": [
      "\n",
      " element 66 found at 3 \n"
     ]
    }
   ],
   "source": [
    "def linearsearch(arr,key):\n",
    "    for i in range(len(arr)):\n",
    "        if arr[i]==key:\n",
    "            return i\n",
    "    return -1\n",
    "size=int(input(\"Enter the size of array:\"))\n",
    "arr=[]\n",
    "print(\"Enter the elements\")\n",
    "for i in range(size):\n",
    "    num=int(input(f\"Elements {i+1}:\"))\n",
    "    arr.append(num)\n",
    "key=int(input(\"enter the elements to search:\"))\n",
    "result=linearsearch(arr,key)\n",
    "if result != -1:\n",
    "    print(f\"\\n element {key} found at {result} \")\n",
    "else:\n",
    "    print(f\"\\n element {key} not found at {result}\")"
   ]
  },
  {
   "cell_type": "code",
   "execution_count": null,
   "id": "bfb5b7d5-8631-4725-bd13-e733b35e81b1",
   "metadata": {},
   "outputs": [],
   "source": []
  }
 ],
 "metadata": {
  "kernelspec": {
   "display_name": "Python 3 (ipykernel)",
   "language": "python",
   "name": "python3"
  },
  "language_info": {
   "codemirror_mode": {
    "name": "ipython",
    "version": 3
   },
   "file_extension": ".py",
   "mimetype": "text/x-python",
   "name": "python",
   "nbconvert_exporter": "python",
   "pygments_lexer": "ipython3",
   "version": "3.12.7"
  }
 },
 "nbformat": 4,
 "nbformat_minor": 5
}
