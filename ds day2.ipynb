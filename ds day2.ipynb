{
 "cells": [
  {
   "cell_type": "code",
   "execution_count": 22,
   "id": "09478204-10d1-45e2-96af-586772277166",
   "metadata": {},
   "outputs": [
    {
     "ename": "SyntaxError",
     "evalue": "invalid syntax (2764659170.py, line 13)",
     "output_type": "error",
     "traceback": [
      "\u001b[1;36m  Cell \u001b[1;32mIn[22], line 13\u001b[1;36m\u001b[0m\n\u001b[1;33m    target=jump search(arr, target)\u001b[0m\n\u001b[1;37m                ^\u001b[0m\n\u001b[1;31mSyntaxError\u001b[0m\u001b[1;31m:\u001b[0m invalid syntax\n"
     ]
    }
   ],
   "source": [
    "import math\n",
    "def jump_search(arr,target):\n",
    "    if not arr:\n",
    "        return -1\n",
    "    n=len(arr)\n",
    "    step=int(math.sqrt(n))\n",
    "    prev=0\n",
    "    while prev <n and arr[prev]<target:\n",
    "        prev +=step\n",
    "    for i in range(max(0,prev- step), min(n,prev+1)):\n",
    "        return 1\n",
    "arr=[1,3,5,7,9,11]\n",
    "target=jump search(arr, target)\n",
    "print(f\"Element {target} from at index: {result}\")"
   ]
  },
  {
   "cell_type": "code",
   "execution_count": 50,
   "id": "6df7abb3-4694-4e2a-a373-263a2ed555bc",
   "metadata": {},
   "outputs": [
    {
     "name": "stdout",
     "output_type": "stream",
     "text": [
      "element 9 found at index:-1\n"
     ]
    }
   ],
   "source": [
    "def bsearch_range(arr, target, left, right):\n",
    "    while left<=right:\n",
    "        mid=(left+right)//2\n",
    "        if arr[mid]==target:\n",
    "            return mid\n",
    "        elif arr[mid]< target:\n",
    "            left=mid+1\n",
    "        \n",
    "        else:\n",
    "            right=mid-1\n",
    "    return -1\n",
    "def expo_search(arr, target):\n",
    "    if not arr:\n",
    "        return -1\n",
    "    if arr[0]==target:\n",
    "        return 0\n",
    "    n=len(arr)\n",
    "    i=1\n",
    "    while i<n and arr[i]<= target:\n",
    "        i*=2\n",
    "    return bsearch_range(arr, target, i//2, min(i,n-1))\n",
    "arr=[2,4,6,8,10,12,14]\n",
    "target=9\n",
    "result=expo_search(arr, target)\n",
    "print(f\"element {target} found at index:{result}\")"
   ]
  },
  {
   "cell_type": "code",
   "execution_count": null,
   "id": "d992a2dc-5b02-42dc-a97e-178ed47d5dba",
   "metadata": {},
   "outputs": [],
   "source": []
  },
  {
   "cell_type": "code",
   "execution_count": null,
   "id": "5375fe3a-a944-447c-9d98-c2deb910c864",
   "metadata": {},
   "outputs": [],
   "source": [
    "\n",
    "\n",
    "\\"
   ]
  }
 ],
 "metadata": {
  "kernelspec": {
   "display_name": "Python 3 (ipykernel)",
   "language": "python",
   "name": "python3"
  },
  "language_info": {
   "codemirror_mode": {
    "name": "ipython",
    "version": 3
   },
   "file_extension": ".py",
   "mimetype": "text/x-python",
   "name": "python",
   "nbconvert_exporter": "python",
   "pygments_lexer": "ipython3",
   "version": "3.12.7"
  }
 },
 "nbformat": 4,
 "nbformat_minor": 5
}
