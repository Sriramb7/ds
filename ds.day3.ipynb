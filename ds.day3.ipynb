{
 "cells": [
  {
   "cell_type": "code",
   "execution_count": 28,
   "id": "0753c0ed-4fbc-4571-a67a-42f5a68807e4",
   "metadata": {},
   "outputs": [
    {
     "name": "stdin",
     "output_type": "stream",
     "text": [
      "enter the number of elements: 5\n"
     ]
    },
    {
     "name": "stdout",
     "output_type": "stream",
     "text": [
      "enter  5 elements\n"
     ]
    },
    {
     "name": "stdin",
     "output_type": "stream",
     "text": [
      " 3\n",
      " 2\n",
      " 1\n",
      " 2\n",
      " 3\n"
     ]
    },
    {
     "name": "stdout",
     "output_type": "stream",
     "text": [
      "sorted array [1, 2, 2, 3, 3]\n"
     ]
    }
   ],
   "source": [
    "#selection sort\n",
    "def selection_sort(arr):\n",
    "    n=len(arr)\n",
    "    for i in range(n):\n",
    "        min_index=i\n",
    "        for j in range(i+1, n):\n",
    "            if arr[j]<arr[min_index]:\n",
    "                min_index=j\n",
    "        arr[i],arr[min_index]=arr[min_index],arr[i]\n",
    "    return arr\n",
    "size=int(input(\"enter the number of elements:\"))\n",
    "arr=[]\n",
    "print(\"enter \",size,\"elements\")\n",
    "for _ in range(size):\n",
    "    num=int(input())\n",
    "    arr.append(num)\n",
    "result=selection_sort(arr)\n",
    "print(\"sorted array\",result)"
   ]
  },
  {
   "cell_type": "code",
   "execution_count": 30,
   "id": "4f4121c8-ca8b-4cb7-8790-4f87716f9315",
   "metadata": {},
   "outputs": [
    {
     "name": "stdin",
     "output_type": "stream",
     "text": [
      "enter the number of elements: 4\n"
     ]
    },
    {
     "name": "stdout",
     "output_type": "stream",
     "text": [
      "enter  4 elements\n"
     ]
    },
    {
     "name": "stdin",
     "output_type": "stream",
     "text": [
      " 5\n",
      " 3\n",
      " 6\n",
      " 8\n"
     ]
    },
    {
     "name": "stdout",
     "output_type": "stream",
     "text": [
      "sorted array [3, 5, 6, 8]\n"
     ]
    }
   ],
   "source": [
    "def insertion_sort(arr):\n",
    "    for i in range(1, len(arr)):\n",
    "        key=arr[i]\n",
    "        j=i-1\n",
    "        while j>=0 and arr[j]>key:\n",
    "            arr[j+1]=arr[j]\n",
    "            j-=1\n",
    "        arr[j+1]=key\n",
    "    return arr\n",
    "size=int(input(\"enter the number of elements:\"))\n",
    "arr=[]\n",
    "print(\"enter \",size,\"elements\")\n",
    "for _ in range(size):\n",
    "    num=int(input())\n",
    "    arr.append(num)\n",
    "result=insertion_sort(arr)\n",
    "print(\"sorted array\",result)"
   ]
  },
  {
   "cell_type": "code",
   "execution_count": null,
   "id": "af8c36c2-aa38-4b26-ad4a-d749bb108e9f",
   "metadata": {},
   "outputs": [],
   "source": []
  }
 ],
 "metadata": {
  "kernelspec": {
   "display_name": "Python 3 (ipykernel)",
   "language": "python",
   "name": "python3"
  },
  "language_info": {
   "codemirror_mode": {
    "name": "ipython",
    "version": 3
   },
   "file_extension": ".py",
   "mimetype": "text/x-python",
   "name": "python",
   "nbconvert_exporter": "python",
   "pygments_lexer": "ipython3",
   "version": "3.12.7"
  }
 },
 "nbformat": 4,
 "nbformat_minor": 5
}
