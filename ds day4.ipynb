{
 "cells": [
  {
   "cell_type": "code",
   "execution_count": 2,
   "id": "958c2b82-0cbd-42c6-8bad-81ca1e480b6c",
   "metadata": {},
   "outputs": [
    {
     "name": "stdout",
     "output_type": "stream",
     "text": [
      "before sorting [170, 45, 75, 90, 802, 24, 2, 66]\n",
      "after sort [2, 24, 45, 66, 75, 90, 170, 802]\n"
     ]
    }
   ],
   "source": [
    "#radixsort\n",
    "def count_sort(arr, exp):\n",
    "    n=len(arr)\n",
    "    output=[0]*n\n",
    "    count=[0] * 10\n",
    "    for i in range(n):\n",
    "        index=(arr[i]//exp)%10\n",
    "        count[index]+=1\n",
    "    for i in range(1,10):\n",
    "        count[i]+=count[i-1]\n",
    "    i=n-1\n",
    "    while i>=0:\n",
    "        index=(arr[i]//exp)%10\n",
    "        output[count[index]-1]=arr[i]\n",
    "        count[index]-=1\n",
    "        i-=1\n",
    "    for i in range(n):\n",
    "        arr[i]=output[i]\n",
    "def radix_sort(arr):\n",
    "    max_num=max(arr)\n",
    "    exp=1\n",
    "    while max_num//exp>0:\n",
    "        count_sort(arr,exp)\n",
    "        exp*=10\n",
    "\n",
    "arr=[170,45,75,90,802,24,2,66]\n",
    "print(\"before sorting\",arr)\n",
    "radix_sort(arr)\n",
    "print(\"after sort\",arr)\n"
   ]
  },
  {
   "cell_type": "code",
   "execution_count": null,
   "id": "7a5b557b-4b21-4b80-a58d-83c1b84761a9",
   "metadata": {},
   "outputs": [],
   "source": []
  }
 ],
 "metadata": {
  "kernelspec": {
   "display_name": "Python 3 (ipykernel)",
   "language": "python",
   "name": "python3"
  },
  "language_info": {
   "codemirror_mode": {
    "name": "ipython",
    "version": 3
   },
   "file_extension": ".py",
   "mimetype": "text/x-python",
   "name": "python",
   "nbconvert_exporter": "python",
   "pygments_lexer": "ipython3",
   "version": "3.12.7"
  }
 },
 "nbformat": 4,
 "nbformat_minor": 5
}
